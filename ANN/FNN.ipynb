{
 "cells": [
  {
   "cell_type": "markdown",
   "id": "88609e1f",
   "metadata": {},
   "source": [
    "# Problem Statement:\n",
    "  Build a neural network that can classify images of handwritten digits (0 to 9) from the MNIST dataset.\n",
    "  "
   ]
  },
  {
   "cell_type": "code",
   "execution_count": 8,
   "id": "26c646ac",
   "metadata": {},
   "outputs": [],
   "source": [
    "# Import Libraries\n",
    "import pandas as pd\n",
    "import numpy as np\n",
    "import matplotlib.pyplot as plt\n",
    "import seaborn as sns\n",
    "from sklearn.model_selection import train_test_split\n",
    "from sklearn.neural_network import MLPClassifier\n"
   ]
  },
  {
   "cell_type": "code",
   "execution_count": 9,
   "id": "f924cd93",
   "metadata": {},
   "outputs": [
    {
     "name": "stdout",
     "output_type": "stream",
     "text": [
      "     0    1    2     3     4     5    6    7    8    9  ...   55   56   57  \\\n",
      "0  0.0  0.0  5.0  13.0   9.0   1.0  0.0  0.0  0.0  0.0  ...  0.0  0.0  0.0   \n",
      "1  0.0  0.0  0.0  12.0  13.0   5.0  0.0  0.0  0.0  0.0  ...  0.0  0.0  0.0   \n",
      "2  0.0  0.0  0.0   4.0  15.0  12.0  0.0  0.0  0.0  0.0  ...  0.0  0.0  0.0   \n",
      "3  0.0  0.0  7.0  15.0  13.0   1.0  0.0  0.0  0.0  8.0  ...  0.0  0.0  0.0   \n",
      "4  0.0  0.0  0.0   1.0  11.0   0.0  0.0  0.0  0.0  0.0  ...  0.0  0.0  0.0   \n",
      "\n",
      "    58    59    60    61   62   63  label  \n",
      "0  6.0  13.0  10.0   0.0  0.0  0.0      0  \n",
      "1  0.0  11.0  16.0  10.0  0.0  0.0      1  \n",
      "2  0.0   3.0  11.0  16.0  9.0  0.0      2  \n",
      "3  7.0  13.0  13.0   9.0  0.0  0.0      3  \n",
      "4  0.0   2.0  16.0   4.0  0.0  0.0      4  \n",
      "\n",
      "[5 rows x 65 columns]\n"
     ]
    }
   ],
   "source": [
    "# Import dataset\n",
    "df = pd.read_csv('mnist_digits_8x8.csv')\n",
    "\n",
    "print(df.head())"
   ]
  },
  {
   "cell_type": "code",
   "execution_count": 10,
   "id": "77a69870",
   "metadata": {},
   "outputs": [],
   "source": [
    "# preprocess data(Normalization)\n",
    "X = df.drop('label', axis=1).values\n",
    "y = df['label'].values\n",
    "X = X / 16.0  # Normalize pixel values to [0, 1]\n",
    "\n"
   ]
  },
  {
   "cell_type": "code",
   "execution_count": 11,
   "id": "eef60bc0",
   "metadata": {},
   "outputs": [],
   "source": [
    "# Split the dataset into training and testing sets\n",
    "\n",
    "X_train, X_test, y_train, y_test = train_test_split(X, y, test_size=0.2, random_state=42)\n",
    "\n"
   ]
  },
  {
   "cell_type": "code",
   "execution_count": 26,
   "id": "5955fa76",
   "metadata": {},
   "outputs": [
    {
     "name": "stdout",
     "output_type": "stream",
     "text": [
      "Model accuracy: 0.98\n"
     ]
    }
   ],
   "source": [
    "# Build a MLP model\n",
    "\n",
    "mlp = MLPClassifier(hidden_layer_sizes=(32, 164), max_iter=1000, random_state=42) # # Two layers: 32 neurons, then 164 neurons\n",
    "# Train the model\n",
    "mlp.fit(X_train, y_train)\n",
    "\n",
    "accuracy = mlp.score(X_test, y_test)\n",
    "print(f'Model accuracy: {accuracy:.2f}')\n"
   ]
  },
  {
   "cell_type": "code",
   "execution_count": 30,
   "id": "732df10b",
   "metadata": {},
   "outputs": [
    {
     "data": {
      "image/png": "[encoded data removed]",
      "text/plain": [
       "<Figure size 1000x500 with 10 Axes>"
      ]
     },
     "metadata": {},
     "output_type": "display_data"
    }
   ],
   "source": [
    "# Visualize some predictions\n",
    "predictions = mlp.predict(X_test)\n",
    "fig, axes = plt.subplots(2, 5, figsize=(10, 5))\n",
    "for i, ax in enumerate(axes.flat):\n",
    "    ax.imshow(X_test[i].reshape(8, 8), cmap='gray')\n",
    "    ax.set_title(f'Predicted: {predictions[i]}')\n",
    "    ax.axis('off')\n",
    "plt.tight_layout()\n",
    "plt.show()  \n",
    "\n"
   ]
  },
  {
   "cell_type": "code",
   "execution_count": null,
   "id": "6d010f86",
   "metadata": {},
   "outputs": [],
   "source": []
  },
  {
   "cell_type": "code",
   "execution_count": null,
   "id": "8534194d",
   "metadata": {},
   "outputs": [],
   "source": []
  }
 ],
 "metadata": {
  "kernelspec": {
   "display_name": "Python 3",
   "language": "python",
   "name": "python3"
  },
  "language_info": {
   "codemirror_mode": {
    "name": "ipython",
    "version": 3
   },
   "file_extension": ".py",
   "mimetype": "text/x-python",
   "name": "python",
   "nbconvert_exporter": "python",
   "pygments_lexer": "ipython3",
   "version": "3.13.3"
  }
 },
 "nbformat": 4,
 "nbformat_minor": 5
}
