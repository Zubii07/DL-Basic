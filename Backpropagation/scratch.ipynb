{
 "cells": [
  {
   "cell_type": "markdown",
   "id": "586fc276",
   "metadata": {},
   "source": [
    "Code from scratch"
   ]
  },
  {
   "cell_type": "code",
   "execution_count": 1,
   "id": "b8b61814",
   "metadata": {},
   "outputs": [],
   "source": [
    "import numpy as np\n",
    "import pandas as pd"
   ]
  },
  {
   "cell_type": "code",
   "execution_count": 3,
   "id": "6742b097",
   "metadata": {},
   "outputs": [
    {
     "data": {
      "application/vnd.microsoft.datawrangler.viewer.v0+json": {
       "columns": [
        {
         "name": "index",
         "rawType": "int64",
         "type": "integer"
        },
        {
         "name": "CGPA",
         "rawType": "int64",
         "type": "integer"
        },
        {
         "name": "Profile_Score",
         "rawType": "int64",
         "type": "integer"
        },
        {
         "name": "LPA",
         "rawType": "int64",
         "type": "integer"
        }
       ],
       "ref": "07300b08-78fd-4647-9d57-710475937117",
       "rows": [
        [
         "0",
         "8",
         "8",
         "4"
        ],
        [
         "1",
         "7",
         "9",
         "5"
        ],
        [
         "2",
         "6",
         "10",
         "6"
        ],
        [
         "3",
         "5",
         "12",
         "7"
        ]
       ],
       "shape": {
        "columns": 3,
        "rows": 4
       }
      },
      "text/html": [
       "<div>\n",
       "<style scoped>\n",
       "    .dataframe tbody tr th:only-of-type {\n",
       "        vertical-align: middle;\n",
       "    }\n",
       "\n",
       "    .dataframe tbody tr th {\n",
       "        vertical-align: top;\n",
       "    }\n",
       "\n",
       "    .dataframe thead th {\n",
       "        text-align: right;\n",
       "    }\n",
       "</style>\n",
       "<table border=\"1\" class=\"dataframe\">\n",
       "  <thead>\n",
       "    <tr style=\"text-align: right;\">\n",
       "      <th></th>\n",
       "      <th>CGPA</th>\n",
       "      <th>Profile_Score</th>\n",
       "      <th>LPA</th>\n",
       "    </tr>\n",
       "  </thead>\n",
       "  <tbody>\n",
       "    <tr>\n",
       "      <th>0</th>\n",
       "      <td>8</td>\n",
       "      <td>8</td>\n",
       "      <td>4</td>\n",
       "    </tr>\n",
       "    <tr>\n",
       "      <th>1</th>\n",
       "      <td>7</td>\n",
       "      <td>9</td>\n",
       "      <td>5</td>\n",
       "    </tr>\n",
       "    <tr>\n",
       "      <th>2</th>\n",
       "      <td>6</td>\n",
       "      <td>10</td>\n",
       "      <td>6</td>\n",
       "    </tr>\n",
       "    <tr>\n",
       "      <th>3</th>\n",
       "      <td>5</td>\n",
       "      <td>12</td>\n",
       "      <td>7</td>\n",
       "    </tr>\n",
       "  </tbody>\n",
       "</table>\n",
       "</div>"
      ],
      "text/plain": [
       "   CGPA  Profile_Score  LPA\n",
       "0     8              8    4\n",
       "1     7              9    5\n",
       "2     6             10    6\n",
       "3     5             12    7"
      ]
     },
     "execution_count": 3,
     "metadata": {},
     "output_type": "execute_result"
    }
   ],
   "source": [
    "df= pd.DataFrame([[8,8,4],[7,9,5],[6,10,6],[5,12,7]],columns=['CGPA','Profile_Score','LPA'])\n",
    "df"
   ]
  },
  {
   "cell_type": "code",
   "execution_count": 11,
   "id": "046e8bf5",
   "metadata": {},
   "outputs": [],
   "source": [
    "# Initialize parameters\n",
    "def initialize_parameters(layer_dims):\n",
    "    np.random.seed(3)\n",
    "    parameters = {}\n",
    "    L = len(layer_dims)  # number of layers in the network\n",
    "    for l in range(1, L):\n",
    "        parameters['W' + str(l)] = np.ones((layer_dims[l], layer_dims[l-1])) * 0.1\n",
    "        parameters['b' + str(l)] = np.zeros((layer_dims[l], 1))\n",
    "    return parameters\n",
    "\n",
    "\n"
   ]
  },
  {
   "cell_type": "code",
   "execution_count": 12,
   "id": "87d8621a",
   "metadata": {},
   "outputs": [
    {
     "data": {
      "text/plain": [
       "{'W1': array([[0.1, 0.1],\n",
       "        [0.1, 0.1]]),\n",
       " 'b1': array([[0.],\n",
       "        [0.]]),\n",
       " 'W2': array([[0.1, 0.1]]),\n",
       " 'b2': array([[0.]])}"
      ]
     },
     "execution_count": 12,
     "metadata": {},
     "output_type": "execute_result"
    }
   ],
   "source": [
    "initialize_parameters([2,2,1])"
   ]
  },
  {
   "cell_type": "code",
   "execution_count": 14,
   "id": "e9c2aef9",
   "metadata": {},
   "outputs": [],
   "source": [
    "# Calculate ouput of a given neuron\n",
    "def linear_forward(A_prev, W, b):\n",
    "    Z = np.dot(W,A_prev) + b\n",
    "    return Z"
   ]
  },
  {
   "cell_type": "code",
   "execution_count": 29,
   "id": "a38fa4d7",
   "metadata": {},
   "outputs": [],
   "source": [
    "# Froward propagation\n",
    "def forward_propagation(X, parameters):\n",
    "    A = X\n",
    "    L = len(parameters) // 2  # number of layers in the network\n",
    "    for l in range(1, L + 1):\n",
    "        A_prev = A\n",
    "        W1 = parameters['W' + str(l)]\n",
    "        b1 = parameters['b' + str(l)]\n",
    "        #print(\"A\"+ str(l-1) + \":\", A_prev)\n",
    "        #print(\"W\" + str(l) + \":\", W1)\n",
    "        #print(\"b\" + str(l) + \":\", b1)\n",
    "        #print(\"--\" * 20) \n",
    "       \n",
    "        A = linear_forward(A_prev, W1, b1)\n",
    "        #print(\"A\" + str(l) + \":\", A)\n",
    "        #print(\"--\" * 20)\n",
    "    return A,A_prev "
   ]
  },
  {
   "cell_type": "code",
   "execution_count": 20,
   "id": "b735e741",
   "metadata": {},
   "outputs": [
    {
     "name": "stdout",
     "output_type": "stream",
     "text": [
      "A0: [[8]\n",
      " [8]]\n",
      "W1: [[0.1 0.1]\n",
      " [0.1 0.1]]\n",
      "b1: [[0.]\n",
      " [0.]]\n",
      "----------------------------------------\n",
      "A1: [[1.6]\n",
      " [1.6]]\n",
      "----------------------------------------\n",
      "A1: [[1.6]\n",
      " [1.6]]\n",
      "W2: [[0.1 0.1]]\n",
      "b2: [[0.]]\n",
      "----------------------------------------\n",
      "A2: [[0.32]]\n",
      "----------------------------------------\n"
     ]
    }
   ],
   "source": [
    "X = df[['CGPA', 'Profile_Score']].values[0].reshape(-2,1)  # shape(No. of features, No. of training examples)\n",
    "y = df['LPA'].values[0]\n",
    "\n",
    "parameters = initialize_parameters([2, 2, 1])\n",
    "y_hat,A1 = forward_propagation(X, parameters)"
   ]
  },
  {
   "cell_type": "code",
   "execution_count": 22,
   "id": "c3496993",
   "metadata": {},
   "outputs": [
    {
     "name": "stdout",
     "output_type": "stream",
     "text": [
      "Loss of first student: 0.32000000000000006\n"
     ]
    }
   ],
   "source": [
    "# Calculate loss\n",
    "Loss = y_hat[0][0]\n",
    "print(\"Loss of first student:\", Loss)"
   ]
  },
  {
   "cell_type": "code",
   "execution_count": 23,
   "id": "0d018671",
   "metadata": {},
   "outputs": [
    {
     "data": {
      "text/plain": [
       "array([[1.6],\n",
       "       [1.6]])"
      ]
     },
     "execution_count": 23,
     "metadata": {},
     "output_type": "execute_result"
    }
   ],
   "source": [
    "A1"
   ]
  },
  {
   "cell_type": "code",
   "execution_count": 26,
   "id": "9661e3f9",
   "metadata": {},
   "outputs": [],
   "source": [
    "# Update parameters\n",
    "def update_parameters(parameters,y,y_hat,A1,X):\n",
    "    parameters['W2'][0][0] = parameters['W2'][0][0] + (0.001 * 2 * (y - y_hat) * A1[0][0])\n",
    "    parameters['W2'][0][1] = parameters['W2'][0][1] + (0.001 * 2 * (y - y_hat) * A1[1][0])\n",
    "    parameters['b2'][0][0] = parameters['b2'][0][0] + (0.001 * 2 * (y - y_hat))\n",
    "\n",
    "    parameters['W1'][0][0] = parameters['W1'][0][0] + (0.001 * 2 * (y - y_hat) * parameters['W2'][0][0] * X[0][0])\n",
    "    parameters['W1'][0][1] = parameters['W1'][0][1] + (0.001 * 2 * (y - y_hat) * parameters['W2'][0][0] * X[1][0])\n",
    "    parameters['b1'][0][0] = parameters['b1'][0][0] + (0.001 * 2 * (y - y_hat) * parameters['W2'][0][0])\n",
    "\n",
    "    parameters['W1'][1][0] = parameters['W1'][1][0] + (0.001 * 2 * (y - y_hat) * parameters['W2'][0][1] * X[0][0])\n",
    "    parameters['W1'][1][1] = parameters['W1'][1][1] + (0.001 * 2 * (y - y_hat) * parameters['W2'][0][1] * X[1][0])\n",
    "    parameters['b1'][1][0] = parameters['b1'][1][0] + (0.001 * 2 * (y - y_hat) * parameters['W2'][0][1])\n",
    "    \n"
   ]
  },
  {
   "cell_type": "code",
   "execution_count": 27,
   "id": "9ab2245c",
   "metadata": {},
   "outputs": [
    {
     "name": "stderr",
     "output_type": "stream",
     "text": [
      "C:\\Users\\Zohaib\\AppData\\Local\\Temp\\ipykernel_16724\\3125132761.py:3: DeprecationWarning: Conversion of an array with ndim > 0 to a scalar is deprecated, and will error in future. Ensure you extract a single element from your array before performing this operation. (Deprecated NumPy 1.25.)\n",
      "  parameters['W2'][0][0] = parameters['W2'][0][0] + (0.001 * 2 * (y - y_hat) * A1[0][0])\n",
      "C:\\Users\\Zohaib\\AppData\\Local\\Temp\\ipykernel_16724\\3125132761.py:4: DeprecationWarning: Conversion of an array with ndim > 0 to a scalar is deprecated, and will error in future. Ensure you extract a single element from your array before performing this operation. (Deprecated NumPy 1.25.)\n",
      "  parameters['W2'][0][1] = parameters['W2'][0][1] + (0.001 * 2 * (y - y_hat) * A1[1][0])\n",
      "C:\\Users\\Zohaib\\AppData\\Local\\Temp\\ipykernel_16724\\3125132761.py:5: DeprecationWarning: Conversion of an array with ndim > 0 to a scalar is deprecated, and will error in future. Ensure you extract a single element from your array before performing this operation. (Deprecated NumPy 1.25.)\n",
      "  parameters['b2'][0][0] = parameters['b2'][0][0] + (0.001 * 2 * (y - y_hat))\n",
      "C:\\Users\\Zohaib\\AppData\\Local\\Temp\\ipykernel_16724\\3125132761.py:7: DeprecationWarning: Conversion of an array with ndim > 0 to a scalar is deprecated, and will error in future. Ensure you extract a single element from your array before performing this operation. (Deprecated NumPy 1.25.)\n",
      "  parameters['W1'][0][0] = parameters['W1'][0][0] + (0.001 * 2 * (y - y_hat) * parameters['W2'][0][0] * X[0][0])\n",
      "C:\\Users\\Zohaib\\AppData\\Local\\Temp\\ipykernel_16724\\3125132761.py:8: DeprecationWarning: Conversion of an array with ndim > 0 to a scalar is deprecated, and will error in future. Ensure you extract a single element from your array before performing this operation. (Deprecated NumPy 1.25.)\n",
      "  parameters['W1'][0][1] = parameters['W1'][0][1] + (0.001 * 2 * (y - y_hat) * parameters['W2'][0][0] * X[1][0])\n",
      "C:\\Users\\Zohaib\\AppData\\Local\\Temp\\ipykernel_16724\\3125132761.py:9: DeprecationWarning: Conversion of an array with ndim > 0 to a scalar is deprecated, and will error in future. Ensure you extract a single element from your array before performing this operation. (Deprecated NumPy 1.25.)\n",
      "  parameters['b1'][0][0] = parameters['b1'][0][0] + (0.001 * 2 * (y - y_hat) * parameters['W2'][0][0])\n",
      "C:\\Users\\Zohaib\\AppData\\Local\\Temp\\ipykernel_16724\\3125132761.py:11: DeprecationWarning: Conversion of an array with ndim > 0 to a scalar is deprecated, and will error in future. Ensure you extract a single element from your array before performing this operation. (Deprecated NumPy 1.25.)\n",
      "  parameters['W1'][1][0] = parameters['W1'][1][0] + (0.001 * 2 * (y - y_hat) * parameters['W2'][0][1] * X[0][0])\n",
      "C:\\Users\\Zohaib\\AppData\\Local\\Temp\\ipykernel_16724\\3125132761.py:12: DeprecationWarning: Conversion of an array with ndim > 0 to a scalar is deprecated, and will error in future. Ensure you extract a single element from your array before performing this operation. (Deprecated NumPy 1.25.)\n",
      "  parameters['W1'][1][1] = parameters['W1'][1][1] + (0.001 * 2 * (y - y_hat) * parameters['W2'][0][1] * X[1][0])\n",
      "C:\\Users\\Zohaib\\AppData\\Local\\Temp\\ipykernel_16724\\3125132761.py:13: DeprecationWarning: Conversion of an array with ndim > 0 to a scalar is deprecated, and will error in future. Ensure you extract a single element from your array before performing this operation. (Deprecated NumPy 1.25.)\n",
      "  parameters['b1'][1][0] = parameters['b1'][1][0] + (0.001 * 2 * (y - y_hat) * parameters['W2'][0][1])\n"
     ]
    }
   ],
   "source": [
    "update_parameters(parameters, y, y_hat, A1, X)\n"
   ]
  },
  {
   "cell_type": "code",
   "execution_count": 28,
   "id": "b1318836",
   "metadata": {},
   "outputs": [
    {
     "data": {
      "text/plain": [
       "{'W1': array([[0.10727474, 0.10727474],\n",
       "        [0.10658137, 0.10658137]]),\n",
       " 'b1': array([[0.00090934],\n",
       "        [0.00082267]]),\n",
       " 'W2': array([[0.123552, 0.111776]]),\n",
       " 'b2': array([[0.00736]])}"
      ]
     },
     "execution_count": 28,
     "metadata": {},
     "output_type": "execute_result"
    }
   ],
   "source": [
    "parameters"
   ]
  },
  {
   "cell_type": "code",
   "execution_count": 33,
   "id": "f56bb5d7",
   "metadata": {},
   "outputs": [
    {
     "name": "stdout",
     "output_type": "stream",
     "text": [
      "Epoch 1, Loss: 26.249691774703265\n",
      "Epoch 2, Loss: 19.19634375189233\n",
      "Epoch 3, Loss: 9.702531836210806\n",
      "Epoch 4, Loss: 3.027416260208091\n",
      "Epoch 5, Loss: 1.0597082587765176\n",
      "final parameters\n",
      " {'W1': array([[0.27790431, 0.40579137],\n",
      "       [0.27790431, 0.40579137]]), 'b1': array([[0.0295198],\n",
      "       [0.0295198]]), 'W2': array([[0.46411039, 0.46411039]]), 'b2': array([[0.11664796]])}\n"
     ]
    }
   ],
   "source": [
    "# epoch implementation\n",
    "parameters = initialize_parameters([2, 2, 1])\n",
    "epoch  = 5\n",
    "for i in range(epoch):\n",
    "    Loss = []\n",
    "    for j in range(df.shape[0]):\n",
    "        X = df[['CGPA', 'Profile_Score']].values[j].reshape(2, 1)  # shape(No. of features, No. of training examples)\n",
    "        y = df['LPA'].values[j]\n",
    "        \n",
    "        y_hat, A1 = forward_propagation(X, parameters)\n",
    "        y_hat = y_hat[0][0]  # Extracting the scalar value from the output\n",
    "        update_parameters(parameters, y, y_hat, A1, X)\n",
    "        Loss.append((y-y_hat)**2)  \n",
    "    print(f\"Epoch {i+1}, Loss: {np.mean(Loss)}\")\n",
    "\n",
    "print('final parameters\\n',parameters)"
   ]
  },
  {
   "cell_type": "code",
   "execution_count": null,
   "id": "ba6a4f37",
   "metadata": {},
   "outputs": [],
   "source": []
  }
 ],
 "metadata": {
  "kernelspec": {
   "display_name": "Python 3",
   "language": "python",
   "name": "python3"
  },
  "language_info": {
   "codemirror_mode": {
    "name": "ipython",
    "version": 3
   },
   "file_extension": ".py",
   "mimetype": "text/x-python",
   "name": "python",
   "nbconvert_exporter": "python",
   "pygments_lexer": "ipython3",
   "version": "3.13.3"
  }
 },
 "nbformat": 4,
 "nbformat_minor": 5
}
