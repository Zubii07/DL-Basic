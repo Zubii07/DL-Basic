{
 "cells": [
  {
   "cell_type": "markdown",
   "id": "73605fd6",
   "metadata": {},
   "source": [
    "# Goal:\n",
    "  Minimize a cost function (e.g., MSE for Linear Regression)."
   ]
  },
  {
   "cell_type": "markdown",
   "id": "b8d089a1",
   "metadata": {},
   "source": [
    "Example:\n",
    "You have data:\n",
    "\n",
    "y=2x+3(But you don’t know this yet)\n",
    "You want to learn parameters \n",
    "𝑤\n",
    "w and \n",
    "𝑏\n",
    "b using gradient descent."
   ]
  },
  {
   "cell_type": "code",
   "execution_count": 2,
   "id": "6963ebe0",
   "metadata": {},
   "outputs": [
    {
     "name": "stdout",
     "output_type": "stream",
     "text": [
      "Epoch 0, Loss: 89.0000, W: 0.6200, b: 0.1800\n",
      "Epoch 100, Loss: 0.4772, W: 2.4470, b: 1.3864\n",
      "Epoch 200, Loss: 0.2424, W: 2.3186, b: 1.8499\n",
      "Epoch 300, Loss: 0.1231, W: 2.2270, b: 2.1803\n",
      "Epoch 400, Loss: 0.0625, W: 2.1618, b: 2.4158\n",
      "Epoch 500, Loss: 0.0318, W: 2.1153, b: 2.5836\n",
      "Epoch 600, Loss: 0.0161, W: 2.0822, b: 2.7032\n",
      "Epoch 700, Loss: 0.0082, W: 2.0586, b: 2.7885\n",
      "Epoch 800, Loss: 0.0042, W: 2.0418, b: 2.8493\n",
      "Epoch 900, Loss: 0.0021, W: 2.0298, b: 2.8926\n",
      "Final weights: W = 2.0213, b = 2.9232\n",
      "Final predictions: [ 4.94444972  6.96573076  8.98701181 11.00829286 13.0295739 ]\n",
      "True output: [ 5  7  9 11 13]\n"
     ]
    }
   ],
   "source": [
    "import numpy as np\n",
    "\n",
    "X = np.array([1,2,3,4,5])\n",
    "Y = np.array([5,7,9,11,13])  # True output\n",
    "\n",
    "# Initialize weights and bias\n",
    "W = 0.0\n",
    "b = 0.0\n",
    "\n",
    "\n",
    "# Hyperparameters\n",
    "learning_rate = 0.01\n",
    "epochs = 1000\n",
    "m = len(X)\n",
    "\n",
    "# Gradient Descent Loop\n",
    "for epoch in range(epochs):\n",
    "    Y_pred = W * X + b\n",
    "    error = Y - Y_pred\n",
    "\n",
    "    # Compute gradients\n",
    "    dW = (-2/m) * np.dot(X, error)\n",
    "    db = (-2/m) * np.sum(error)\n",
    "\n",
    "    # Update weights and bias\n",
    "    W -= learning_rate * dW\n",
    "    b -= learning_rate * db\n",
    "\n",
    "    # Print the loss every 100 epochs\n",
    "    if epoch % 100 == 0:\n",
    "        loss = np.mean(error ** 2)\n",
    "        print(f'Epoch {epoch}, Loss: {loss:.4f}, W: {W:.4f}, b: {b:.4f}')\n",
    "\n",
    "print(f'Final weights: W = {W:.4f}, b = {b:.4f}')\n",
    "# Final prediction\n",
    "Y_final_pred = W * X + b\n",
    "print(f'Final predictions: {Y_final_pred}')\n",
    "print(f'True output: {Y}')\n",
    "\n",
    "\n",
    "\n"
   ]
  },
  {
   "cell_type": "code",
   "execution_count": null,
   "id": "213aaa18",
   "metadata": {},
   "outputs": [],
   "source": []
  }
 ],
 "metadata": {
  "kernelspec": {
   "display_name": "Python 3",
   "language": "python",
   "name": "python3"
  },
  "language_info": {
   "codemirror_mode": {
    "name": "ipython",
    "version": 3
   },
   "file_extension": ".py",
   "mimetype": "text/x-python",
   "name": "python",
   "nbconvert_exporter": "python",
   "pygments_lexer": "ipython3",
   "version": "3.13.3"
  }
 },
 "nbformat": 4,
 "nbformat_minor": 5
}
