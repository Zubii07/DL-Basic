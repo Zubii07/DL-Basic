{
 "cells": [
  {
   "cell_type": "markdown",
   "id": "d1276462",
   "metadata": {},
   "source": [
    "# Regularization:\n",
    " When your model memorizes the training data (overfitting), it fails to work well on new data.\n",
    " Regularization is a technique that penalizes complex models to prevent overfitting. Regularization adds a penalty to the model's loss function — it discourages large or unnecessary weights."
   ]
  },
  {
   "cell_type": "markdown",
   "id": "40ecffc8",
   "metadata": {},
   "source": [
    "# Import libraries\n"
   ]
  },
  {
   "cell_type": "code",
   "execution_count": 1,
   "id": "e2c23568",
   "metadata": {},
   "outputs": [],
   "source": [
    "import numpy as np\n",
    "import pandas as pd\n",
    "import matplotlib.pyplot as plt\n",
    "%matplotlib inline\n",
    "import seaborn as sns"
   ]
  },
  {
   "cell_type": "code",
   "execution_count": 4,
   "id": "df7e2051",
   "metadata": {},
   "outputs": [],
   "source": [
    "# import datas\n",
    "df = pd.read_csv('advertising.csv')\n",
    "\n"
   ]
  },
  {
   "cell_type": "code",
   "execution_count": 5,
   "id": "55734b56",
   "metadata": {},
   "outputs": [
    {
     "name": "stdout",
     "output_type": "stream",
     "text": [
      "(140, 3) (60, 3)\n"
     ]
    }
   ],
   "source": [
    "# splitting the data\n",
    "from sklearn.model_selection import train_test_split\n",
    "X = df[['TV', 'Radio', 'Newspaper']]\n",
    "y = df['Sales']\n",
    "X_train, X_test, y_train, y_test = train_test_split(X, y,\n",
    "                                                    test_size=0.3,\n",
    "                                                    random_state=42)  \n",
    "print(X_train.shape, X_test.shape)"
   ]
  },
  {
   "cell_type": "markdown",
   "id": "f808b485",
   "metadata": {},
   "source": [
    "L2 Regularization (Ridge):  The squared sum of coefficients "
   ]
  },
  {
   "cell_type": "code",
   "execution_count": 7,
   "id": "64e8d2c7",
   "metadata": {},
   "outputs": [
    {
     "name": "stdout",
     "output_type": "stream",
     "text": [
      "Ridge Coefficients: [0.05358867 0.10270294 0.00793246]\n",
      "Ridge Intercept: 4.743835255088639\n",
      "Test MSE: 2.5416451037747483\n",
      "Train MSE: 2.8392326635229193\n"
     ]
    }
   ],
   "source": [
    "# Modeling Ridge with default parameters\n",
    "from sklearn.linear_model import Ridge\n",
    "ridge = Ridge()\n",
    "ridge.fit(X_train, y_train)\n",
    "print(\"Ridge Coefficients:\", ridge.coef_)\n",
    "print(\"Ridge Intercept:\", ridge.intercept_)\n",
    "\n",
    "\n",
    "# Prediction \n",
    "test_pred = ridge.predict(X_test)\n",
    "train_pred = ridge.predict(X_train)\n",
    "\n",
    "# Evaluation\n",
    "from sklearn.metrics import mean_squared_error\n",
    "test_mse = mean_squared_error(y_test, test_pred)\n",
    "train_mse = mean_squared_error(y_train, train_pred)\n",
    "print(\"Test MSE:\", test_mse)\n",
    "print(\"Train MSE:\", train_mse)\n",
    "\n"
   ]
  },
  {
   "cell_type": "code",
   "execution_count": 10,
   "id": "d04be18a",
   "metadata": {},
   "outputs": [
    {
     "name": "stdout",
     "output_type": "stream",
     "text": [
      "Best Alpha: 1000\n",
      "Best MSE: 3.032010478404186\n",
      "Best Test MSE: 2.564361099286008\n",
      "Best Train MSE: 2.841795937904301\n"
     ]
    }
   ],
   "source": [
    "# Hyperparameter Tuning of Ridge \n",
    "from sklearn.model_selection import GridSearchCV\n",
    "param_grid = {'alpha': [0.1, 1, 10, 100, 1000]}\n",
    "ridge_cv = GridSearchCV(Ridge(), param_grid, cv=5, scoring='neg_mean_squared_error')\n",
    "ridge_cv.fit(X_train, y_train)\n",
    "print(\"Best Alpha:\", ridge_cv.best_params_['alpha'])\n",
    "print(\"Best MSE:\", -ridge_cv.best_score_)\n",
    "# Best model\n",
    "best_ridge = ridge_cv.best_estimator_\n",
    "best_test_pred = best_ridge.predict(X_test)\n",
    "best_train_pred = best_ridge.predict(X_train)\n",
    "\n",
    "# Evaluation of Best Model\n",
    "best_test_mse = mean_squared_error(y_test, best_test_pred)\n",
    "best_train_mse = mean_squared_error(y_train, best_train_pred)\n",
    "print(\"Best Test MSE:\", best_test_mse)\n",
    "print(\"Best Train MSE:\", best_train_mse)\n",
    "\n",
    "\n"
   ]
  },
  {
   "cell_type": "markdown",
   "id": "d09b1d7c",
   "metadata": {},
   "source": [
    "L1 Reularization (Lasso): Modifies overfitted or under-fitted models by adding a penalty equivalent to the sum of the absolute values ​​of the coefficients. "
   ]
  },
  {
   "cell_type": "code",
   "execution_count": 11,
   "id": "ebdc7e95",
   "metadata": {},
   "outputs": [
    {
     "name": "stdout",
     "output_type": "stream",
     "text": [
      "Lasso Coefficients: [0.05350286 0.09870028 0.00656003]\n",
      "Lasso Intercept: 4.893206377430953\n",
      "Lasso Test MSE: 2.52905678067919\n",
      "Lasso Train MSE: 2.8446961902340533\n"
     ]
    }
   ],
   "source": [
    "from sklearn.linear_model import Lasso\n",
    "lasso = Lasso()\n",
    "lasso.fit(X_train, y_train)\n",
    "print(\"Lasso Coefficients:\", lasso.coef_)\n",
    "print(\"Lasso Intercept:\", lasso.intercept_)\n",
    "# Prediction\n",
    "lasso_test_pred = lasso.predict(X_test)\n",
    "lasso_train_pred = lasso.predict(X_train)\n",
    "# Evaluation\n",
    "lasso_test_mse = mean_squared_error(y_test, lasso_test_pred)\n",
    "lasso_train_mse = mean_squared_error(y_train, lasso_train_pred)\n",
    "print(\"Lasso Test MSE:\", lasso_test_mse)\n",
    "print(\"Lasso Train MSE:\", lasso_train_mse)"
   ]
  },
  {
   "cell_type": "code",
   "execution_count": 12,
   "id": "daab1ea1",
   "metadata": {},
   "outputs": [
    {
     "name": "stdout",
     "output_type": "stream",
     "text": [
      "Best Alpha for Lasso: 0.1\n",
      "Best MSE for Lasso: 3.033961824614377\n",
      "Best Lasso Test MSE: 2.5397762434037605\n",
      "Best Lasso Train MSE: 2.839287204310359\n"
     ]
    }
   ],
   "source": [
    "# Hyperparameter Tuning of Lasso: \n",
    "param_grid_lasso = {'alpha': [0.1, 1, 10, 100, 1000]}\n",
    "lasso_cv = GridSearchCV(Lasso(), param_grid_lasso, cv=5, scoring='neg_mean_squared_error')\n",
    "lasso_cv.fit(X_train, y_train)\n",
    "print(\"Best Alpha for Lasso:\", lasso_cv.best_params_['alpha'])\n",
    "print(\"Best MSE for Lasso:\", -lasso_cv.best_score_)\n",
    "# Best model\n",
    "best_lasso = lasso_cv.best_estimator_\n",
    "best_lasso_test_pred = best_lasso.predict(X_test)\n",
    "best_lasso_train_pred = best_lasso.predict(X_train)\n",
    "# Evaluation of Best Lasso Model\n",
    "best_lasso_test_mse = mean_squared_error(y_test, best_lasso_test_pred)\n",
    "best_lasso_train_mse = mean_squared_error(y_train, best_lasso_train_pred)\n",
    "print(\"Best Lasso Test MSE:\", best_lasso_test_mse)\n",
    "print(\"Best Lasso Train MSE:\", best_lasso_train_mse)"
   ]
  },
  {
   "cell_type": "code",
   "execution_count": 14,
   "id": "5fbc1145",
   "metadata": {},
   "outputs": [
    {
     "data": {
      "image/png": "[encoded data removed]",
      "text/plain": [
       "<Figure size 1000x600 with 2 Axes>"
      ]
     },
     "metadata": {},
     "output_type": "display_data"
    }
   ],
   "source": [
    "# L2 Regularization (Ridge):  The squared sum of coefficients\n",
    "# L1 Reularization (Lasso): Modifies overfitted or under-fitted models by adding a penalty equivalent to the sum of the absolute values ​​of the coefficients. \n",
    "\n",
    "\n",
    "\n",
    "# Visualizing the coefficientsplt.\n",
    "plt.figure(figsize=(10, 6))\n",
    "plt.subplot(1, 2, 1)\n",
    "plt.bar(X.columns, ridge.coef_, color='blue', alpha=0.6, label='Ridge Coefficients')\n",
    "plt.title('Ridge Coefficients')\n",
    "plt.xlabel('Features')\n",
    "plt.ylabel('Coefficient Value')\n",
    "plt.legend()\n",
    "plt.subplot(1, 2, 2)\n",
    "plt.bar(X.columns, lasso.coef_, color='orange', alpha=0.6, label='Lasso Coefficients')\n",
    "plt.title('Lasso Coefficients')\n",
    "plt.xlabel('Features')  \n",
    "plt.ylabel('Coefficient Value')\n",
    "plt.legend()\n",
    "plt.tight_layout()\n",
    "plt.show()"
   ]
  },
  {
   "cell_type": "code",
   "execution_count": null,
   "id": "99741e9f",
   "metadata": {},
   "outputs": [],
   "source": []
  }
 ],
 "metadata": {
  "kernelspec": {
   "display_name": "Python 3",
   "language": "python",
   "name": "python3"
  },
  "language_info": {
   "codemirror_mode": {
    "name": "ipython",
    "version": 3
   },
   "file_extension": ".py",
   "mimetype": "text/x-python",
   "name": "python",
   "nbconvert_exporter": "python",
   "pygments_lexer": "ipython3",
   "version": "3.13.3"
  }
 },
 "nbformat": 4,
 "nbformat_minor": 5
}
